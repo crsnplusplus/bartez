{
 "cells": [
  {
   "cell_type": "code",
   "execution_count": 102,
   "metadata": {},
   "outputs": [],
   "source": [
    "%reload_ext autoreload\n",
    "%autoreload 2\n",
    "\n",
    "\n",
    "from bartez.boards import *\n",
    "#get_board_preset_small_01 \n",
    "blocks, geometry = generate_board_from_string(get_board_preset_01())"
   ]
  },
  {
   "cell_type": "code",
   "execution_count": 103,
   "metadata": {},
   "outputs": [
    {
     "name": "stdout",
     "output_type": "stream",
     "text": [
      "\n",
      ". . . . # . . . . . . . # . . . . . \n",
      ". . . . . . . . . # . # . . . . . . \n",
      ". . # . . . . . # . . . . . . . # . \n",
      ". # . . . . . # . . . . . . . # . . \n",
      "# . . . . . # . . . . . . . # . . . \n",
      ". . . . . # . . . . . . . # . . . . \n",
      ". . . . # . . . . . . . # . . . . . \n",
      ". . . # . . . . . . . # . . . . . # \n",
      ". . # . . . . . . . # . . . . . # . \n",
      ". # . . . . . . . # . . . . . # . . \n",
      ". . . . . . # . # . . . . . . . . . \n",
      ". . . . . # . . . . . . . # . . . . \n",
      "\n"
     ]
    }
   ],
   "source": [
    "from bartez.crossword import Crossworld\n",
    "\n",
    "crossword = Crossworld(geometry[0], geometry[1])\n",
    "crossword.set_blocks(blocks)\n",
    "crossword.prepare()\n",
    "crossword.print_crossword()\n",
    "#crossword.print_entries()"
   ]
  },
  {
   "cell_type": "code",
   "execution_count": 146,
   "metadata": {},
   "outputs": [],
   "source": [
    "import networkx as nx\n",
    "\n",
    "G = nx.Graph()\n",
    "entries = crossword.get_entries()\n",
    "nodes_h = []\n",
    "nodes_v = []\n",
    "for i, e in enumerate(entries):\n",
    "    #print(e.get_description() + \", index: \" + str(e.absolute_index()))\n",
    "    relations = e.get_relations()\n",
    "    is_horizontal = e.is_horizontal()\n",
    "    e_index = e.get_absolute_index()\n",
    "    for rel in relations:\n",
    "        G.add_edge(e_index, rel.get_index())\n",
    "    \n",
    "    G.nodes[i]['id']=e_index\n",
    "    G.nodes[i]['title']=e.get_description()\n",
    "    G.nodes[i]['horizontal']=is_horizontal\n",
    "    G.nodes[i]['color']= \"00ff1e\" if is_horizontal else \"0bcde\"\n",
    "    \n",
    "    if is_horizontal:\n",
    "        nodes_h.append(e_index)\n",
    "    else:\n",
    "        nodes_v.append(e_index)\n",
    "\n",
    "#print(G.nodes())\n",
    "#print(G.edges())"
   ]
  },
  {
   "cell_type": "code",
   "execution_count": 147,
   "metadata": {},
   "outputs": [],
   "source": [
    "%matplotlib notebook\n",
    "\n",
    "import matplotlib\n",
    "matplotlib.use('nbagg')\n",
    "import matplotlib.pyplot as plt\n"
   ]
  },
  {
   "cell_type": "code",
   "execution_count": 148,
   "metadata": {
    "scrolled": false
   },
   "outputs": [
    {
     "data": {
      "text/html": [
       "\n",
       "        <iframe\n",
       "            width=\"800px\"\n",
       "            height=\"800px\"\n",
       "            src=\"nx.html\"\n",
       "            frameborder=\"0\"\n",
       "            allowfullscreen\n",
       "        ></iframe>\n",
       "        "
      ],
      "text/plain": [
       "<IPython.lib.display.IFrame at 0x7f76a6f0e220>"
      ]
     },
     "execution_count": 148,
     "metadata": {},
     "output_type": "execute_result"
    }
   ],
   "source": [
    "from pyvis.network import Network\n",
    "import networkx as nx\n",
    "\n",
    "nx_graph = nx.cycle_graph(10)\n",
    "nx_graph.nodes[1]['title'] = 'Number 1'\n",
    "nx_graph.nodes[1]['group'] = 1\n",
    "nx_graph.nodes[3]['title'] = 'I belong to a different group!'\n",
    "nx_graph.nodes[3]['group'] = 10\n",
    "nx_graph.add_node(20, size=20, title='couple', group=2)\n",
    "nx_graph.add_node(21, size=15, title='couple', group=2)\n",
    "nx_graph.add_edge(20, 21, weight=5)\n",
    "nx_graph.add_node(25, size=25, label='lonely', title='lonely node', group=3)\n",
    "nx_graph = G\n",
    "nt = Network('800px', '800px', notebook=True)\n",
    "# populates the nodes and edges data structures\n",
    "nt.from_nx(nx_graph)\n",
    "nt.show('nx.html')"
   ]
  },
  {
   "cell_type": "code",
   "execution_count": 138,
   "metadata": {},
   "outputs": [
    {
     "name": "stdout",
     "output_type": "stream",
     "text": [
      "0: 1 Horizontal [....] r,c: [0, 0] -> [0, 3]\n",
      "1: 1 Vertical   [....] r,c: [0, 0] -> [3, 0]\n",
      "2: 2 Vertical   [...] r,c: [0, 1] -> [2, 1]\n",
      "3: 3 Vertical   [..] r,c: [0, 2] -> [1, 2]\n",
      "4: 4 Vertical   [.......] r,c: [0, 3] -> [6, 3]\n",
      "5: 5 Horizontal [.......] r,c: [0, 5] -> [0, 11]\n",
      "6: 5 Vertical   [.....] r,c: [0, 5] -> [4, 5]\n",
      "7: 6 Vertical   [....] r,c: [0, 6] -> [3, 6]\n",
      "8: 7 Vertical   [...] r,c: [0, 7] -> [2, 7]\n",
      "9: 8 Vertical   [..] r,c: [0, 8] -> [1, 8]\n",
      "10: 9 Vertical   [........] r,c: [0, 10] -> [7, 10]\n",
      "11: 10 Horizontal [.....] r,c: [0, 13] -> [0, 17]\n",
      "12: 10 Vertical   [.....] r,c: [0, 13] -> [4, 13]\n",
      "13: 11 Vertical   [....] r,c: [0, 14] -> [3, 14]\n",
      "14: 12 Vertical   [...] r,c: [0, 15] -> [2, 15]\n",
      "15: 13 Vertical   [..] r,c: [0, 16] -> [1, 16]\n",
      "16: 14 Vertical   [.......] r,c: [0, 17] -> [6, 17]\n",
      "17: 15 Horizontal [.........] r,c: [1, 0] -> [1, 8]\n",
      "18: 16 Vertical   [.....] r,c: [1, 4] -> [5, 4]\n",
      "19: 17 Horizontal [......] r,c: [1, 12] -> [1, 17]\n",
      "20: 17 Vertical   [.....] r,c: [1, 12] -> [5, 12]\n",
      "21: 18 Horizontal [..] r,c: [2, 0] -> [2, 1]\n",
      "22: 19 Horizontal [.....] r,c: [2, 3] -> [2, 7]\n",
      "23: 20 Horizontal [.......] r,c: [2, 9] -> [2, 15]\n",
      "24: 20 Vertical   [.......] r,c: [2, 9] -> [8, 9]\n",
      "25: 21 Vertical   [.....] r,c: [2, 11] -> [6, 11]\n",
      "26: 22 Horizontal [.....] r,c: [3, 2] -> [3, 6]\n",
      "27: 22 Vertical   [.....] r,c: [3, 2] -> [7, 2]\n",
      "28: 23 Horizontal [.......] r,c: [3, 8] -> [3, 14]\n",
      "29: 23 Vertical   [.......] r,c: [3, 8] -> [9, 8]\n",
      "30: 24 Horizontal [..] r,c: [3, 16] -> [3, 17]\n",
      "31: 24 Vertical   [.....] r,c: [3, 16] -> [7, 16]\n",
      "32: 25 Horizontal [.....] r,c: [4, 1] -> [4, 5]\n",
      "33: 25 Vertical   [.....] r,c: [4, 1] -> [8, 1]\n",
      "34: 26 Horizontal [.......] r,c: [4, 7] -> [4, 13]\n",
      "35: 26 Vertical   [........] r,c: [4, 7] -> [11, 7]\n",
      "36: 27 Horizontal [...] r,c: [4, 15] -> [4, 17]\n",
      "37: 27 Vertical   [.....] r,c: [4, 15] -> [8, 15]\n",
      "38: 28 Horizontal [.....] r,c: [5, 0] -> [5, 4]\n",
      "39: 28 Vertical   [.......] r,c: [5, 0] -> [11, 0]\n",
      "40: 29 Horizontal [.......] r,c: [5, 6] -> [5, 12]\n",
      "41: 29 Vertical   [.....] r,c: [5, 6] -> [9, 6]\n",
      "42: 30 Horizontal [....] r,c: [5, 14] -> [5, 17]\n",
      "43: 30 Vertical   [.......] r,c: [5, 14] -> [11, 14]\n",
      "44: 31 Horizontal [....] r,c: [6, 0] -> [6, 3]\n",
      "45: 32 Horizontal [.......] r,c: [6, 5] -> [6, 11]\n",
      "46: 32 Vertical   [.....] r,c: [6, 5] -> [10, 5]\n",
      "47: 33 Horizontal [.....] r,c: [6, 13] -> [6, 17]\n",
      "48: 33 Vertical   [.....] r,c: [6, 13] -> [10, 13]\n",
      "49: 34 Horizontal [...] r,c: [7, 0] -> [7, 2]\n",
      "50: 35 Horizontal [.......] r,c: [7, 4] -> [7, 10]\n",
      "51: 35 Vertical   [.....] r,c: [7, 4] -> [11, 4]\n",
      "52: 36 Horizontal [.....] r,c: [7, 12] -> [7, 16]\n",
      "53: 36 Vertical   [.....] r,c: [7, 12] -> [11, 12]\n",
      "54: 37 Horizontal [..] r,c: [8, 0] -> [8, 1]\n",
      "55: 38 Horizontal [.......] r,c: [8, 3] -> [8, 9]\n",
      "56: 38 Vertical   [....] r,c: [8, 3] -> [11, 3]\n",
      "57: 39 Horizontal [.....] r,c: [8, 11] -> [8, 15]\n",
      "58: 39 Vertical   [....] r,c: [8, 11] -> [11, 11]\n",
      "59: 40 Vertical   [....] r,c: [8, 17] -> [11, 17]\n",
      "60: 41 Horizontal [.......] r,c: [9, 2] -> [9, 8]\n",
      "61: 41 Vertical   [...] r,c: [9, 2] -> [11, 2]\n",
      "62: 42 Horizontal [.....] r,c: [9, 10] -> [9, 14]\n",
      "63: 42 Vertical   [...] r,c: [9, 10] -> [11, 10]\n",
      "64: 43 Horizontal [..] r,c: [9, 16] -> [9, 17]\n",
      "65: 43 Vertical   [...] r,c: [9, 16] -> [11, 16]\n",
      "66: 44 Horizontal [......] r,c: [10, 0] -> [10, 5]\n",
      "67: 45 Vertical   [..] r,c: [10, 1] -> [11, 1]\n",
      "68: 46 Horizontal [.........] r,c: [10, 9] -> [10, 17]\n",
      "69: 46 Vertical   [..] r,c: [10, 9] -> [11, 9]\n",
      "70: 47 Vertical   [..] r,c: [10, 15] -> [11, 15]\n",
      "71: 48 Horizontal [.....] r,c: [11, 0] -> [11, 4]\n",
      "72: 49 Horizontal [.......] r,c: [11, 6] -> [11, 12]\n",
      "73: 50 Horizontal [....] r,c: [11, 14] -> [11, 17]\n"
     ]
    }
   ],
   "source": [
    "crossword.print_entries()"
   ]
  }
 ],
 "metadata": {
  "interpreter": {
   "hash": "11ceb9adbac210021ae43f2dbf57d3d613c49fe13115657445bc498870ab6c3a"
  },
  "kernelspec": {
   "display_name": "Python 3 (ipykernel)",
   "language": "python",
   "name": "python3"
  },
  "language_info": {
   "codemirror_mode": {
    "name": "ipython",
    "version": 3
   },
   "file_extension": ".py",
   "mimetype": "text/x-python",
   "name": "python",
   "nbconvert_exporter": "python",
   "pygments_lexer": "ipython3",
   "version": "3.9.7"
  }
 },
 "nbformat": 4,
 "nbformat_minor": 2
}
