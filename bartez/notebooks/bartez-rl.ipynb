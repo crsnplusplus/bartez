{
 "cells": [
  {
   "cell_type": "code",
   "execution_count": 8,
   "source": [
    "import numpy as np\r\n",
    "from tensorforce.environments import Environment\r\n",
    "import networkx as nx\r\n",
    "\r\n",
    "from bartez.graph.graph import BartezGraph\r\n",
    "import bartez.tests.test_utils as test_utils\r\n",
    "from bartez.symbols import SquareValues\r\n",
    "import bartez.tests.test_utils as test_utils\r\n",
    "\r\n",
    "import copy\r\n"
   ],
   "outputs": [],
   "metadata": {}
  },
  {
   "cell_type": "code",
   "execution_count": 9,
   "source": [
    "class CrosswordModel(object):\r\n",
    "    def __init__(self):\r\n",
    "        self.__crossword = test_utils.get_test_crossword3x3()\r\n",
    "        self.__crossword_start = None\r\n",
    "        self.__valid_letters = list(map(chr, range(ord('a'), ord('z')+1)))\r\n",
    "        self.__square_action_vec = list(self.__valid_letters) + list(SquareValues.char)\r\n",
    "        self.__dictionary = test_utils.get_test_dictionary()\r\n",
    "        self.__trie = test_utils.get_test_trie()\r\n",
    "    \r\n",
    "    def get_rows_count(self):\r\n",
    "        return self.__crossword.get_rows_count()\r\n",
    "\r\n",
    "    def get_columns_count(self):\r\n",
    "        return self.__crossword.get_columns_count()\r\n",
    "    \r\n",
    "    def get_squares_count(self):\r\n",
    "        return self.get_rows_count() * self.get_columns_count()\r\n",
    "    \r\n",
    "    def get_actions_per_square_count(self):\r\n",
    "        return len(self.__square_action_vec)\r\n",
    "    \r\n",
    "    def get_actions_count(self):\r\n",
    "        return self.get_squares_count() * len(self.__square_action_vec)\r\n",
    "    \r\n",
    "    def print_info(self):\r\n",
    "        self.__crossword.print_crossword()\r\n",
    "        print(\"rows: \" + str(self.get_rows_count()))\r\n",
    "        print(\"columns: \" + str(self.get_columns_count()))\r\n",
    "    \r\n",
    "    def reset(self):\r\n",
    "        #distribution = np.random.randint(2, size=self.get_squares_count())\r\n",
    "        distribution = np.array([0, 0, 1, 0, 1, 1, 1, 1, 1])\r\n",
    "        #print(type(distribution))\r\n",
    "        print(distribution)\r\n",
    "        cols = self.get_columns_count()\r\n",
    "        for i in range(len(distribution)):\r\n",
    "            row = int(i / cols)\r\n",
    "            col = int(i % cols)\r\n",
    "            value = SquareValues.char if (distribution[i] == 0) else SquareValues.block\r\n",
    "            #print(\"i     : \" + str(i))\r\n",
    "            #print(\"row   : \" + str(row))\r\n",
    "            #print(\"col   : \" + str(col))\r\n",
    "            #print(\"rows  : \" + str(self.get_columns_count()))\r\n",
    "            #print(\"cols  : \" + str(cols))\r\n",
    "            #print(\"distribution[i]: \" + str(distribution[i]))\r\n",
    "            #print(\"value : \" + str(value))\r\n",
    "            self.__crossword.set_value(row, col, value)\r\n",
    "        self.__crossword.prepare()\r\n",
    "        self.__crossword_start = copy.copy(self.__crossword)\r\n",
    "        self.print_info()\r\n",
    "        \r\n",
    "        entries = self.__crossword.get_entries()\r\n",
    "        graph = test_utils.get_test_graph(self.__crossword)\r\n",
    "        #nx.draw(graph, with_labels = True)\r\n",
    "        print(type(graph))\r\n",
    "        print(type(entries))\r\n",
    "        print(\"\\n\".join([(e.get_description() + \" [\" +\r\n",
    "                         str(e.get_coordinate_x()) + \" \" +\r\n",
    "                         str(e.get_coordinate_y()) + \"] \") for e  in entries]))\r\n",
    "\r\n",
    "    \r\n",
    "    def crossword_to_state(self, crossword):\r\n",
    "        \r\n",
    "        pass\r\n",
    "    \r\n",
    "    def perform_action(self, action):\r\n",
    "        reward = 0\r\n",
    "        cols = self.get_columns_count()\r\n",
    "        actions_per_square_count = self.get_actions_per_square_count()\r\n",
    "        modulo = action % actions_per_square_count\r\n",
    "        \r\n",
    "        letter = action / actions_per_square_count\r\n",
    "        row = modulo / cols\r\n",
    "        col = modulo % cols\r\n",
    "        \r\n",
    "        self.set_value(row, col, letter)\r\n",
    "        return reward"
   ],
   "outputs": [],
   "metadata": {
    "scrolled": false
   }
  },
  {
   "cell_type": "code",
   "execution_count": 10,
   "source": [
    "class CrosswordEnvironment(Environment):\r\n",
    "    def __init__(self):\r\n",
    "        super().__init__()\r\n",
    "        self.__model = CrosswordModel()\r\n",
    "        self.NUM_ACTIONS = self.__model.get_actions_count()\r\n",
    "        self.NUM_STATES = self.__model.get_squares_count()\r\n",
    "        print(\"States: \" + str(self.NUM_STATES))\r\n",
    "        print(\"Actions: \" + str(self.NUM_ACTIONS))\r\n",
    "        print(\"Actions per square: \" + str(self.__model.get_actions_per_square_count()))\r\n",
    "        \r\n",
    "    def states(self):\r\n",
    "        return dict(type='int', num_values=self.NUM_STATES)\r\n",
    "    \r\n",
    "    def actions(self):\r\n",
    "        return dict(type=int, shape=(), num_values=self.NUM_ACTIONS)\r\n",
    "    \r\n",
    "    def reset(self):\r\n",
    "        # Initial state and associated action mask\r\n",
    "        return self.__model.reset()\r\n",
    "    \r\n",
    "    def execute(self, action):\r\n",
    "        reward = self.__model.perform_action(action)\r\n",
    "        \r\n",
    "        return next_state, false, reward"
   ],
   "outputs": [],
   "metadata": {}
  },
  {
   "cell_type": "code",
   "execution_count": 11,
   "source": [
    "def start():\r\n",
    "    env = CrosswordEnvironment()\r\n",
    "    env.reset()\r\n"
   ],
   "outputs": [],
   "metadata": {}
  },
  {
   "cell_type": "code",
   "execution_count": 12,
   "source": [
    "start()"
   ],
   "outputs": [
    {
     "output_type": "stream",
     "name": "stdout",
     "text": [
      "States: 9\n",
      "Actions: 243\n",
      "Actions per square: 27\n",
      "[0 0 1 0 1 1 1 1 1]\n",
      "\n",
      ". . # \n",
      ". # # \n",
      "# # # \n",
      "\n",
      "rows: 3\n",
      "columns: 3\n",
      "<class 'networkx.classes.graph.Graph'>\n",
      "<class 'list'>\n",
      "1 Horizontal [0 0] \n",
      "1 Vertical [0 0] \n",
      "2 Vertical [0 2] \n",
      "3 Horizontal [2 0] \n",
      "1 Horizontal [0 0] \n",
      "1 Vertical [0 0] \n",
      "2 Vertical [0 1] \n",
      "3 Vertical [0 2] \n",
      "4 Horizontal [1 0] \n",
      "5 Horizontal [2 0] \n"
     ]
    }
   ],
   "metadata": {}
  },
  {
   "cell_type": "code",
   "execution_count": null,
   "source": [],
   "outputs": [],
   "metadata": {}
  },
  {
   "cell_type": "code",
   "execution_count": null,
   "source": [],
   "outputs": [],
   "metadata": {}
  }
 ],
 "metadata": {
  "interpreter": {
   "hash": "bc01fbfd248a7e63fd42508171f6ad4276b070e66e0eb2da8e62d07ab8747ac5"
  },
  "kernelspec": {
   "display_name": "Python 3 (ipykernel)",
   "language": "python",
   "name": "python3"
  },
  "language_info": {
   "codemirror_mode": {
    "name": "ipython",
    "version": 3
   },
   "file_extension": ".py",
   "mimetype": "text/x-python",
   "name": "python",
   "nbconvert_exporter": "python",
   "pygments_lexer": "ipython3",
   "version": "3.9.7"
  }
 },
 "nbformat": 4,
 "nbformat_minor": 5
}