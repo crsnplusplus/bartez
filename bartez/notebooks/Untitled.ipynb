{
 "cells": [
  {
   "cell_type": "code",
   "execution_count": null,
   "id": "a05296ab",
   "metadata": {},
   "outputs": [],
   "source": [
    "from tensorforce.agents import Agent\n",
    "\n",
    "agent_ddqn = Agent.create(\n",
    "    agent=\"double_dqn\",\n",
    "    states=dict(states=dict(type='int', num_values=5, shape=(1,))),\n",
    "    actions=dict(actions=dict(type='int', num_values=5, shape=(1,))),\n",
    "    batch_size=10,\n",
    "    memory=500,\n",
    "    learning_rate=0.001,\n",
    "    #reward_estimation=dict(horizon=20, 4),\n",
    "    discount=0.98\n",
    ")"
   ]
  },
  {
   "cell_type": "code",
   "execution_count": null,
   "id": "d8d001d2",
   "metadata": {},
   "outputs": [],
   "source": [
    "agent_ddqn"
   ]
  },
  {
   "cell_type": "code",
   "execution_count": null,
   "id": "99a99b45",
   "metadata": {},
   "outputs": [],
   "source": [
    "from tensorforce.agents import DoubleDQN\n",
    "\n",
    "agent = DoubleDQN(\n",
    "    states=dict(states=dict(type='int', num_values=5, shape=(1,))),\n",
    "    actions=dict(actions=dict(type='int', num_values=5, shape=(1,))),\n",
    "    memory=1000,\n",
    "    max_episode_timesteps=100,\n",
    "    batch_size=100,\n",
    "    horizon=5,\n",
    "    exploration=0.1\n",
    ")"
   ]
  },
  {
   "cell_type": "code",
   "execution_count": 54,
   "id": "7c92e056",
   "metadata": {},
   "outputs": [
    {
     "name": "stdout",
     "output_type": "stream",
     "text": [
      "\n",
      "\n",
      "\n",
      "\u001b[F\u001b[F\u001b[F\n",
      "Current number 0\n",
      "Numbers done: 0, all nums: 10\n",
      "0.0%\n",
      "\u001b[F\u001b[F\u001b[F\n",
      "Current number 1\n",
      "Numbers done: 1, all nums: 10\n",
      "10.0%\n",
      "\u001b[F\u001b[F\u001b[F\n",
      "Current number 2\n",
      "Numbers done: 2, all nums: 10\n",
      "20.0%\n",
      "\u001b[F\u001b[F\u001b[F\n",
      "Current number 3\n",
      "Numbers done: 3, all nums: 10\n",
      "30.0%\n",
      "\u001b[F\u001b[F\u001b[F\n",
      "Current number 4\n",
      "Numbers done: 4, all nums: 10\n",
      "40.0%\n",
      "\u001b[F\u001b[F\u001b[F\n",
      "Current number 5\n",
      "Numbers done: 5, all nums: 10\n",
      "50.0%\n",
      "\u001b[F\u001b[F\u001b[F\n",
      "Current number 6\n",
      "Numbers done: 6, all nums: 10\n",
      "60.0%\n",
      "\u001b[F\u001b[F\u001b[F\n",
      "Current number 7\n",
      "Numbers done: 7, all nums: 10\n",
      "70.0%\n",
      "\u001b[F\u001b[F\u001b[F\n",
      "Current number 8\n",
      "Numbers done: 8, all nums: 10\n",
      "80.0%\n",
      "\u001b[F\u001b[F\u001b[F\n",
      "Current number 9\n",
      "Numbers done: 9, all nums: 10\n",
      "90.0%\n"
     ]
    }
   ],
   "source": [
    "import time\n",
    "\n",
    "#print('...\\n.#.\\n...', end='\\r')\n",
    "#print([\"...\",\".#.\",\"...\"], split='\\n', end='\\r')\n",
    "#time.sleep(1)\n",
    "#print('A..\\n.#.\\n...', end='\\r')\n",
    "\n",
    "def status(num, counter, all_nums):\n",
    "    print(\"\\033[F\"*3)\n",
    "    print(\n",
    "        f'Current number {num}',\n",
    "        f'Numbers done: {counter}, all nums: {all_nums}',\n",
    "        f'{(num/all_nums):2.1%}',\n",
    "        sep=\"\\n\"\n",
    "    )\n",
    "\n",
    "print(\"\\n\"*3, end=\"\")\n",
    "for i in range(10):\n",
    "    status(i,i, 10)\n"
   ]
  },
  {
   "cell_type": "code",
   "execution_count": null,
   "id": "75e092c7",
   "metadata": {},
   "outputs": [],
   "source": [
    "def update(n):\n",
    "    for i in range(n):\n",
    "        print(\"i:\",i,sep='',end=\"\\r\",flush=True)\n",
    "        time.sleep(1)\n",
    "update(4)"
   ]
  },
  {
   "cell_type": "code",
   "execution_count": null,
   "id": "ca3fc005",
   "metadata": {},
   "outputs": [],
   "source": []
  }
 ],
 "metadata": {
  "kernelspec": {
   "display_name": "Python 3 (ipykernel)",
   "language": "python",
   "name": "python3"
  },
  "language_info": {
   "codemirror_mode": {
    "name": "ipython",
    "version": 3
   },
   "file_extension": ".py",
   "mimetype": "text/x-python",
   "name": "python",
   "nbconvert_exporter": "python",
   "pygments_lexer": "ipython3",
   "version": "3.9.7"
  }
 },
 "nbformat": 4,
 "nbformat_minor": 5
}
