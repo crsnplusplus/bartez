{
 "cells": [
  {
   "cell_type": "code",
   "execution_count": 10,
   "id": "f112e5f8",
   "metadata": {},
   "outputs": [
    {
     "data": {
      "text/plain": [
       "array([0.28063689, 0.16737315, 0.14562747, 0.40180724, 0.22798746,\n",
       "       0.45313808, 0.22070258, 0.6098893 , 0.40982828, 0.94952574])"
      ]
     },
     "execution_count": 10,
     "metadata": {},
     "output_type": "execute_result"
    }
   ],
   "source": [
    "import numpy as np\n",
    "\n",
    "np.random.sample(10)"
   ]
  },
  {
   "cell_type": "code",
   "execution_count": 11,
   "id": "f6cc195d",
   "metadata": {},
   "outputs": [],
   "source": [
    "squares_count = 16\n",
    "blocks_count = int(squares_count * (np.random.sample(1) * 0.3 + 0.1))"
   ]
  },
  {
   "cell_type": "code",
   "execution_count": 12,
   "id": "774d375f",
   "metadata": {},
   "outputs": [
    {
     "name": "stdout",
     "output_type": "stream",
     "text": [
      "4\n"
     ]
    }
   ],
   "source": [
    "print(str(blocks_count))"
   ]
  },
  {
   "cell_type": "code",
   "execution_count": 14,
   "id": "0650366a",
   "metadata": {},
   "outputs": [
    {
     "name": "stdout",
     "output_type": "stream",
     "text": [
      "<class 'numpy.ndarray'>\n"
     ]
    }
   ],
   "source": [
    "state = np.random.random(size=(8,))\n",
    "state = np.empty(())\n",
    "print(type(state))"
   ]
  },
  {
   "cell_type": "code",
   "execution_count": 16,
   "id": "9543b2c8",
   "metadata": {},
   "outputs": [],
   "source": [
    "states = dict(\n",
    "    observation=dict(type='float', shape=(16, 16, 3)),\n",
    "    attributes=dict(type='int', shape=(4, 2), num_values=5)\n",
    ")"
   ]
  },
  {
   "cell_type": "code",
   "execution_count": 17,
   "id": "f183b65b",
   "metadata": {},
   "outputs": [
    {
     "data": {
      "text/plain": [
       "{'observation': {'type': 'float', 'shape': (16, 16, 3)},\n",
       " 'attributes': {'type': 'int', 'shape': (4, 2), 'num_values': 5}}"
      ]
     },
     "execution_count": 17,
     "metadata": {},
     "output_type": "execute_result"
    }
   ],
   "source": [
    "states\n"
   ]
  },
  {
   "cell_type": "code",
   "execution_count": 18,
   "id": "6c2eeffe",
   "metadata": {},
   "outputs": [],
   "source": [
    "states = dict(\n",
    "    observation = dict(type='int', shape=(16,))\n",
    ")\n"
   ]
  },
  {
   "cell_type": "code",
   "execution_count": 19,
   "id": "d83ab47d",
   "metadata": {},
   "outputs": [
    {
     "data": {
      "text/plain": [
       "{'observation': {'type': 'int', 'shape': (16,)}}"
      ]
     },
     "execution_count": 19,
     "metadata": {},
     "output_type": "execute_result"
    }
   ],
   "source": [
    "states\n"
   ]
  },
  {
   "cell_type": "code",
   "execution_count": 26,
   "id": "b76ab925",
   "metadata": {},
   "outputs": [
    {
     "data": {
      "text/plain": [
       "{'states': {'type': 'int', 'num_values': 26, 'shape': (16,)}}"
      ]
     },
     "execution_count": 26,
     "metadata": {},
     "output_type": "execute_result"
    }
   ],
   "source": [
    "states = dict ( states=dict(type='int', num_values=26, shape=(16,), values=) )\n",
    "states"
   ]
  },
  {
   "cell_type": "code",
   "execution_count": null,
   "id": "1642b3b8",
   "metadata": {},
   "outputs": [],
   "source": []
  }
 ],
 "metadata": {
  "kernelspec": {
   "display_name": "Python 3 (ipykernel)",
   "language": "python",
   "name": "python3"
  },
  "language_info": {
   "codemirror_mode": {
    "name": "ipython",
    "version": 3
   },
   "file_extension": ".py",
   "mimetype": "text/x-python",
   "name": "python",
   "nbconvert_exporter": "python",
   "pygments_lexer": "ipython3",
   "version": "3.9.7"
  }
 },
 "nbformat": 4,
 "nbformat_minor": 5
}
